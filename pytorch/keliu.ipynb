{
 "cells": [
  {
   "cell_type": "code",
   "execution_count": 1,
   "metadata": {},
   "outputs": [],
   "source": [
    "import pandas as pd \n",
    "import numpy as np\n",
    "import matplotlib.pyplot as plt"
   ]
  },
  {
   "cell_type": "code",
   "execution_count": 3,
   "metadata": {},
   "outputs": [],
   "source": [
    "df=pd.read_csv(\"C:\\\\Users\\\\Arnold\\\\Desktop\\\\zz_60min_inNums.csv\")"
   ]
  },
  {
   "cell_type": "code",
   "execution_count": 4,
   "metadata": {},
   "outputs": [
    {
     "data": {
      "text/html": [
       "<div>\n",
       "<style scoped>\n",
       "    .dataframe tbody tr th:only-of-type {\n",
       "        vertical-align: middle;\n",
       "    }\n",
       "\n",
       "    .dataframe tbody tr th {\n",
       "        vertical-align: top;\n",
       "    }\n",
       "\n",
       "    .dataframe thead th {\n",
       "        text-align: right;\n",
       "    }\n",
       "</style>\n",
       "<table border=\"1\" class=\"dataframe\">\n",
       "  <thead>\n",
       "    <tr style=\"text-align: right;\">\n",
       "      <th></th>\n",
       "      <th>startTime</th>\n",
       "      <th>Hours</th>\n",
       "      <th>Is_weekend</th>\n",
       "      <th>121</th>\n",
       "      <th>123</th>\n",
       "      <th>125</th>\n",
       "      <th>127</th>\n",
       "      <th>129</th>\n",
       "      <th>131</th>\n",
       "      <th>133</th>\n",
       "      <th>...</th>\n",
       "      <th>141</th>\n",
       "      <th>143</th>\n",
       "      <th>145</th>\n",
       "      <th>147</th>\n",
       "      <th>149</th>\n",
       "      <th>151</th>\n",
       "      <th>153</th>\n",
       "      <th>155</th>\n",
       "      <th>157</th>\n",
       "      <th>159</th>\n",
       "    </tr>\n",
       "  </thead>\n",
       "  <tbody>\n",
       "    <tr>\n",
       "      <th>0</th>\n",
       "      <td>2015/1/2 6:00</td>\n",
       "      <td>0.250000</td>\n",
       "      <td>1</td>\n",
       "      <td>0</td>\n",
       "      <td>0</td>\n",
       "      <td>0</td>\n",
       "      <td>0</td>\n",
       "      <td>0</td>\n",
       "      <td>0</td>\n",
       "      <td>0</td>\n",
       "      <td>...</td>\n",
       "      <td>0</td>\n",
       "      <td>0</td>\n",
       "      <td>0</td>\n",
       "      <td>0</td>\n",
       "      <td>0</td>\n",
       "      <td>0</td>\n",
       "      <td>0</td>\n",
       "      <td>0</td>\n",
       "      <td>0</td>\n",
       "      <td>0</td>\n",
       "    </tr>\n",
       "    <tr>\n",
       "      <th>1</th>\n",
       "      <td>2015/1/2 7:00</td>\n",
       "      <td>0.291667</td>\n",
       "      <td>1</td>\n",
       "      <td>0</td>\n",
       "      <td>0</td>\n",
       "      <td>0</td>\n",
       "      <td>0</td>\n",
       "      <td>0</td>\n",
       "      <td>0</td>\n",
       "      <td>0</td>\n",
       "      <td>...</td>\n",
       "      <td>0</td>\n",
       "      <td>0</td>\n",
       "      <td>0</td>\n",
       "      <td>0</td>\n",
       "      <td>0</td>\n",
       "      <td>0</td>\n",
       "      <td>0</td>\n",
       "      <td>0</td>\n",
       "      <td>0</td>\n",
       "      <td>0</td>\n",
       "    </tr>\n",
       "    <tr>\n",
       "      <th>2</th>\n",
       "      <td>2015/1/2 8:00</td>\n",
       "      <td>0.333333</td>\n",
       "      <td>1</td>\n",
       "      <td>0</td>\n",
       "      <td>0</td>\n",
       "      <td>0</td>\n",
       "      <td>0</td>\n",
       "      <td>0</td>\n",
       "      <td>0</td>\n",
       "      <td>0</td>\n",
       "      <td>...</td>\n",
       "      <td>0</td>\n",
       "      <td>0</td>\n",
       "      <td>0</td>\n",
       "      <td>0</td>\n",
       "      <td>0</td>\n",
       "      <td>0</td>\n",
       "      <td>0</td>\n",
       "      <td>0</td>\n",
       "      <td>0</td>\n",
       "      <td>0</td>\n",
       "    </tr>\n",
       "    <tr>\n",
       "      <th>3</th>\n",
       "      <td>2015/1/2 9:00</td>\n",
       "      <td>0.375000</td>\n",
       "      <td>1</td>\n",
       "      <td>0</td>\n",
       "      <td>0</td>\n",
       "      <td>0</td>\n",
       "      <td>0</td>\n",
       "      <td>0</td>\n",
       "      <td>0</td>\n",
       "      <td>0</td>\n",
       "      <td>...</td>\n",
       "      <td>0</td>\n",
       "      <td>0</td>\n",
       "      <td>0</td>\n",
       "      <td>0</td>\n",
       "      <td>0</td>\n",
       "      <td>0</td>\n",
       "      <td>0</td>\n",
       "      <td>0</td>\n",
       "      <td>0</td>\n",
       "      <td>0</td>\n",
       "    </tr>\n",
       "    <tr>\n",
       "      <th>4</th>\n",
       "      <td>2015/1/2 10:00</td>\n",
       "      <td>0.416667</td>\n",
       "      <td>1</td>\n",
       "      <td>298</td>\n",
       "      <td>0</td>\n",
       "      <td>126</td>\n",
       "      <td>102</td>\n",
       "      <td>44</td>\n",
       "      <td>116</td>\n",
       "      <td>172</td>\n",
       "      <td>...</td>\n",
       "      <td>186</td>\n",
       "      <td>114</td>\n",
       "      <td>68</td>\n",
       "      <td>42</td>\n",
       "      <td>86</td>\n",
       "      <td>48</td>\n",
       "      <td>84</td>\n",
       "      <td>260</td>\n",
       "      <td>0</td>\n",
       "      <td>0</td>\n",
       "    </tr>\n",
       "  </tbody>\n",
       "</table>\n",
       "<p>5 rows × 23 columns</p>\n",
       "</div>"
      ],
      "text/plain": [
       "        startTime     Hours  Is_weekend  121  123  125  127  129  131  133  \\\n",
       "0   2015/1/2 6:00  0.250000           1    0    0    0    0    0    0    0   \n",
       "1   2015/1/2 7:00  0.291667           1    0    0    0    0    0    0    0   \n",
       "2   2015/1/2 8:00  0.333333           1    0    0    0    0    0    0    0   \n",
       "3   2015/1/2 9:00  0.375000           1    0    0    0    0    0    0    0   \n",
       "4  2015/1/2 10:00  0.416667           1  298    0  126  102   44  116  172   \n",
       "\n",
       "  ...   141  143  145  147  149  151  153  155  157  159  \n",
       "0 ...     0    0    0    0    0    0    0    0    0    0  \n",
       "1 ...     0    0    0    0    0    0    0    0    0    0  \n",
       "2 ...     0    0    0    0    0    0    0    0    0    0  \n",
       "3 ...     0    0    0    0    0    0    0    0    0    0  \n",
       "4 ...   186  114   68   42   86   48   84  260    0    0  \n",
       "\n",
       "[5 rows x 23 columns]"
      ]
     },
     "execution_count": 4,
     "metadata": {},
     "output_type": "execute_result"
    }
   ],
   "source": [
    "df.head()"
   ]
  },
  {
   "cell_type": "code",
   "execution_count": 9,
   "metadata": {},
   "outputs": [
    {
     "data": {
      "text/plain": [
       "<matplotlib.collections.PathCollection at 0x27887685eb8>"
      ]
     },
     "execution_count": 9,
     "metadata": {},
     "output_type": "execute_result"
    },
    {
     "data": {
      "image/png": "[encoded data removed]",
      "text/plain": [
       "<Figure size 432x288 with 1 Axes>"
      ]
     },
     "metadata": {},
     "output_type": "display_data"
    }
   ],
   "source": [
    "plt.figure()\n",
    "plt.scatter([i for i in range(len(df.loc[:,\"121\"].values))],df.loc[:,\"121\"].values)"
   ]
  },
  {
   "cell_type": "code",
   "execution_count": 6,
   "metadata": {},
   "outputs": [
    {
     "data": {
      "text/html": [
       "<div>\n",
       "<style scoped>\n",
       "    .dataframe tbody tr th:only-of-type {\n",
       "        vertical-align: middle;\n",
       "    }\n",
       "\n",
       "    .dataframe tbody tr th {\n",
       "        vertical-align: top;\n",
       "    }\n",
       "\n",
       "    .dataframe thead th {\n",
       "        text-align: right;\n",
       "    }\n",
       "</style>\n",
       "<table border=\"1\" class=\"dataframe\">\n",
       "  <thead>\n",
       "    <tr style=\"text-align: right;\">\n",
       "      <th></th>\n",
       "      <th>Hours</th>\n",
       "      <th>Is_weekend</th>\n",
       "      <th>121</th>\n",
       "      <th>123</th>\n",
       "      <th>125</th>\n",
       "      <th>127</th>\n",
       "      <th>129</th>\n",
       "      <th>131</th>\n",
       "      <th>133</th>\n",
       "      <th>135</th>\n",
       "      <th>...</th>\n",
       "      <th>141</th>\n",
       "      <th>143</th>\n",
       "      <th>145</th>\n",
       "      <th>147</th>\n",
       "      <th>149</th>\n",
       "      <th>151</th>\n",
       "      <th>153</th>\n",
       "      <th>155</th>\n",
       "      <th>157</th>\n",
       "      <th>159</th>\n",
       "    </tr>\n",
       "  </thead>\n",
       "  <tbody>\n",
       "    <tr>\n",
       "      <th>count</th>\n",
       "      <td>6300.000000</td>\n",
       "      <td>6300.0</td>\n",
       "      <td>6300.000000</td>\n",
       "      <td>6300.000000</td>\n",
       "      <td>6300.000000</td>\n",
       "      <td>6300.000000</td>\n",
       "      <td>6300.000000</td>\n",
       "      <td>6300.000000</td>\n",
       "      <td>6300.000000</td>\n",
       "      <td>6300.000000</td>\n",
       "      <td>...</td>\n",
       "      <td>6300.000000</td>\n",
       "      <td>6300.000000</td>\n",
       "      <td>6300.000000</td>\n",
       "      <td>6300.000000</td>\n",
       "      <td>6300.000000</td>\n",
       "      <td>6300.000000</td>\n",
       "      <td>6300.000000</td>\n",
       "      <td>6300.000000</td>\n",
       "      <td>6300.000000</td>\n",
       "      <td>6300.000000</td>\n",
       "    </tr>\n",
       "    <tr>\n",
       "      <th>mean</th>\n",
       "      <td>0.604167</td>\n",
       "      <td>1.0</td>\n",
       "      <td>809.286190</td>\n",
       "      <td>293.317460</td>\n",
       "      <td>560.830794</td>\n",
       "      <td>597.894444</td>\n",
       "      <td>394.598889</td>\n",
       "      <td>464.900159</td>\n",
       "      <td>581.685556</td>\n",
       "      <td>1260.388730</td>\n",
       "      <td>...</td>\n",
       "      <td>961.285714</td>\n",
       "      <td>600.757778</td>\n",
       "      <td>571.131905</td>\n",
       "      <td>676.625556</td>\n",
       "      <td>502.720952</td>\n",
       "      <td>412.628413</td>\n",
       "      <td>508.445397</td>\n",
       "      <td>1072.676667</td>\n",
       "      <td>18.866349</td>\n",
       "      <td>926.846508</td>\n",
       "    </tr>\n",
       "    <tr>\n",
       "      <th>std</th>\n",
       "      <td>0.216189</td>\n",
       "      <td>0.0</td>\n",
       "      <td>543.123775</td>\n",
       "      <td>253.318195</td>\n",
       "      <td>402.750996</td>\n",
       "      <td>439.334957</td>\n",
       "      <td>231.138186</td>\n",
       "      <td>339.059704</td>\n",
       "      <td>357.195860</td>\n",
       "      <td>696.243744</td>\n",
       "      <td>...</td>\n",
       "      <td>559.573738</td>\n",
       "      <td>328.469914</td>\n",
       "      <td>344.812902</td>\n",
       "      <td>594.033212</td>\n",
       "      <td>310.866033</td>\n",
       "      <td>322.860303</td>\n",
       "      <td>349.404095</td>\n",
       "      <td>705.695117</td>\n",
       "      <td>23.201901</td>\n",
       "      <td>741.819414</td>\n",
       "    </tr>\n",
       "    <tr>\n",
       "      <th>min</th>\n",
       "      <td>0.250000</td>\n",
       "      <td>1.0</td>\n",
       "      <td>0.000000</td>\n",
       "      <td>0.000000</td>\n",
       "      <td>0.000000</td>\n",
       "      <td>0.000000</td>\n",
       "      <td>0.000000</td>\n",
       "      <td>0.000000</td>\n",
       "      <td>0.000000</td>\n",
       "      <td>0.000000</td>\n",
       "      <td>...</td>\n",
       "      <td>0.000000</td>\n",
       "      <td>0.000000</td>\n",
       "      <td>0.000000</td>\n",
       "      <td>0.000000</td>\n",
       "      <td>0.000000</td>\n",
       "      <td>0.000000</td>\n",
       "      <td>0.000000</td>\n",
       "      <td>0.000000</td>\n",
       "      <td>0.000000</td>\n",
       "      <td>0.000000</td>\n",
       "    </tr>\n",
       "    <tr>\n",
       "      <th>25%</th>\n",
       "      <td>0.416667</td>\n",
       "      <td>1.0</td>\n",
       "      <td>381.000000</td>\n",
       "      <td>155.000000</td>\n",
       "      <td>334.000000</td>\n",
       "      <td>357.000000</td>\n",
       "      <td>238.000000</td>\n",
       "      <td>248.000000</td>\n",
       "      <td>295.000000</td>\n",
       "      <td>858.000000</td>\n",
       "      <td>...</td>\n",
       "      <td>580.750000</td>\n",
       "      <td>428.000000</td>\n",
       "      <td>376.000000</td>\n",
       "      <td>323.750000</td>\n",
       "      <td>298.000000</td>\n",
       "      <td>227.000000</td>\n",
       "      <td>274.000000</td>\n",
       "      <td>437.000000</td>\n",
       "      <td>10.000000</td>\n",
       "      <td>419.000000</td>\n",
       "    </tr>\n",
       "    <tr>\n",
       "      <th>50%</th>\n",
       "      <td>0.604167</td>\n",
       "      <td>1.0</td>\n",
       "      <td>795.000000</td>\n",
       "      <td>247.000000</td>\n",
       "      <td>515.000000</td>\n",
       "      <td>525.000000</td>\n",
       "      <td>414.000000</td>\n",
       "      <td>426.000000</td>\n",
       "      <td>608.000000</td>\n",
       "      <td>1246.000000</td>\n",
       "      <td>...</td>\n",
       "      <td>983.000000</td>\n",
       "      <td>602.000000</td>\n",
       "      <td>562.000000</td>\n",
       "      <td>572.500000</td>\n",
       "      <td>512.500000</td>\n",
       "      <td>391.000000</td>\n",
       "      <td>499.000000</td>\n",
       "      <td>1162.500000</td>\n",
       "      <td>16.000000</td>\n",
       "      <td>861.000000</td>\n",
       "    </tr>\n",
       "    <tr>\n",
       "      <th>75%</th>\n",
       "      <td>0.791667</td>\n",
       "      <td>1.0</td>\n",
       "      <td>1166.000000</td>\n",
       "      <td>360.000000</td>\n",
       "      <td>688.250000</td>\n",
       "      <td>738.000000</td>\n",
       "      <td>506.000000</td>\n",
       "      <td>587.000000</td>\n",
       "      <td>761.000000</td>\n",
       "      <td>1668.250000</td>\n",
       "      <td>...</td>\n",
       "      <td>1255.000000</td>\n",
       "      <td>781.000000</td>\n",
       "      <td>723.000000</td>\n",
       "      <td>828.000000</td>\n",
       "      <td>663.000000</td>\n",
       "      <td>504.000000</td>\n",
       "      <td>624.000000</td>\n",
       "      <td>1536.250000</td>\n",
       "      <td>23.000000</td>\n",
       "      <td>1209.000000</td>\n",
       "    </tr>\n",
       "    <tr>\n",
       "      <th>max</th>\n",
       "      <td>0.958333</td>\n",
       "      <td>1.0</td>\n",
       "      <td>4380.000000</td>\n",
       "      <td>2012.000000</td>\n",
       "      <td>2780.000000</td>\n",
       "      <td>3817.000000</td>\n",
       "      <td>1950.000000</td>\n",
       "      <td>2742.000000</td>\n",
       "      <td>2478.000000</td>\n",
       "      <td>5006.000000</td>\n",
       "      <td>...</td>\n",
       "      <td>4328.000000</td>\n",
       "      <td>2690.000000</td>\n",
       "      <td>2694.000000</td>\n",
       "      <td>5377.000000</td>\n",
       "      <td>2031.000000</td>\n",
       "      <td>2511.000000</td>\n",
       "      <td>2281.000000</td>\n",
       "      <td>4818.000000</td>\n",
       "      <td>570.000000</td>\n",
       "      <td>6528.000000</td>\n",
       "    </tr>\n",
       "  </tbody>\n",
       "</table>\n",
       "<p>8 rows × 22 columns</p>\n",
       "</div>"
      ],
      "text/plain": [
       "             Hours  Is_weekend          121          123          125  \\\n",
       "count  6300.000000      6300.0  6300.000000  6300.000000  6300.000000   \n",
       "mean      0.604167         1.0   809.286190   293.317460   560.830794   \n",
       "std       0.216189         0.0   543.123775   253.318195   402.750996   \n",
       "min       0.250000         1.0     0.000000     0.000000     0.000000   \n",
       "25%       0.416667         1.0   381.000000   155.000000   334.000000   \n",
       "50%       0.604167         1.0   795.000000   247.000000   515.000000   \n",
       "75%       0.791667         1.0  1166.000000   360.000000   688.250000   \n",
       "max       0.958333         1.0  4380.000000  2012.000000  2780.000000   \n",
       "\n",
       "               127          129          131          133          135  \\\n",
       "count  6300.000000  6300.000000  6300.000000  6300.000000  6300.000000   \n",
       "mean    597.894444   394.598889   464.900159   581.685556  1260.388730   \n",
       "std     439.334957   231.138186   339.059704   357.195860   696.243744   \n",
       "min       0.000000     0.000000     0.000000     0.000000     0.000000   \n",
       "25%     357.000000   238.000000   248.000000   295.000000   858.000000   \n",
       "50%     525.000000   414.000000   426.000000   608.000000  1246.000000   \n",
       "75%     738.000000   506.000000   587.000000   761.000000  1668.250000   \n",
       "max    3817.000000  1950.000000  2742.000000  2478.000000  5006.000000   \n",
       "\n",
       "          ...               141          143          145          147  \\\n",
       "count     ...       6300.000000  6300.000000  6300.000000  6300.000000   \n",
       "mean      ...        961.285714   600.757778   571.131905   676.625556   \n",
       "std       ...        559.573738   328.469914   344.812902   594.033212   \n",
       "min       ...          0.000000     0.000000     0.000000     0.000000   \n",
       "25%       ...        580.750000   428.000000   376.000000   323.750000   \n",
       "50%       ...        983.000000   602.000000   562.000000   572.500000   \n",
       "75%       ...       1255.000000   781.000000   723.000000   828.000000   \n",
       "max       ...       4328.000000  2690.000000  2694.000000  5377.000000   \n",
       "\n",
       "               149          151          153          155          157  \\\n",
       "count  6300.000000  6300.000000  6300.000000  6300.000000  6300.000000   \n",
       "mean    502.720952   412.628413   508.445397  1072.676667    18.866349   \n",
       "std     310.866033   322.860303   349.404095   705.695117    23.201901   \n",
       "min       0.000000     0.000000     0.000000     0.000000     0.000000   \n",
       "25%     298.000000   227.000000   274.000000   437.000000    10.000000   \n",
       "50%     512.500000   391.000000   499.000000  1162.500000    16.000000   \n",
       "75%     663.000000   504.000000   624.000000  1536.250000    23.000000   \n",
       "max    2031.000000  2511.000000  2281.000000  4818.000000   570.000000   \n",
       "\n",
       "               159  \n",
       "count  6300.000000  \n",
       "mean    926.846508  \n",
       "std     741.819414  \n",
       "min       0.000000  \n",
       "25%     419.000000  \n",
       "50%     861.000000  \n",
       "75%    1209.000000  \n",
       "max    6528.000000  \n",
       "\n",
       "[8 rows x 22 columns]"
      ]
     },
     "execution_count": 6,
     "metadata": {},
     "output_type": "execute_result"
    }
   ],
   "source": [
    "df.describe()"
   ]
  },
  {
   "cell_type": "code",
   "execution_count": 13,
   "metadata": {},
   "outputs": [
    {
     "data": {
      "text/plain": [
       "1764.0"
      ]
     },
     "execution_count": 13,
     "metadata": {},
     "output_type": "execute_result"
    }
   ],
   "source": [
    "np.percentile(df.loc[:,\"121\"].values,96)"
   ]
  },
  {
   "cell_type": "code",
   "execution_count": 14,
   "metadata": {},
   "outputs": [],
   "source": [
    "arry=df.loc[:,\"121\"].values"
   ]
  },
  {
   "cell_type": "code",
   "execution_count": 16,
   "metadata": {},
   "outputs": [],
   "source": [
    "arry[arry>1764]=arry.mean()"
   ]
  },
  {
   "cell_type": "code",
   "execution_count": 18,
   "metadata": {},
   "outputs": [
    {
     "data": {
      "text/plain": [
       "6300"
      ]
     },
     "execution_count": 18,
     "metadata": {},
     "output_type": "execute_result"
    }
   ],
   "source": [
    "len(arry)"
   ]
  },
  {
   "cell_type": "code",
   "execution_count": 26,
   "metadata": {},
   "outputs": [],
   "source": [
    "y=arry\n",
    "x=np.arange(1,6301)"
   ]
  },
  {
   "cell_type": "code",
   "execution_count": 40,
   "metadata": {},
   "outputs": [],
   "source": [
    "x=x.reshape(-1,1)\n",
    "y=y.reshape(-1,1)"
   ]
  },
  {
   "cell_type": "code",
   "execution_count": 41,
   "metadata": {},
   "outputs": [],
   "source": [
    "X=x[:5500]\n",
    "X_test=x[5500:]\n",
    "y_test=y[5500:]\n",
    "y=y[:5500]"
   ]
  },
  {
   "cell_type": "code",
   "execution_count": 42,
   "metadata": {},
   "outputs": [],
   "source": [
    "from sklearn.preprocessing import PolynomialFeatures\n",
    "from sklearn.linear_model import LinearRegression\n",
    "from sklearn.pipeline import make_pipeline\n",
    "def PolynomialRegression(degree=2, **kwargs):\n",
    "    return make_pipeline(PolynomialFeatures(degree),LinearRegression(**kwargs))"
   ]
  },
  {
   "cell_type": "code",
   "execution_count": 43,
   "metadata": {},
   "outputs": [
    {
     "data": {
      "image/png": "[encoded data removed]",
      "text/plain": [
       "<Figure size 432x288 with 1 Axes>"
      ]
     },
     "metadata": {},
     "output_type": "display_data"
    }
   ],
   "source": [
    "axis = plt.axis()\n",
    "plt.scatter(X,y,color='black')\n",
    "for degree in [1, 3, 5]:\n",
    "    y_test = PolynomialRegression(degree).fit(X, y).predict(X_test)\n",
    "    plt.plot(X_test, y_test, label='degree={0}'.format(degree))\n",
    "    plt.xlim(-0.1, 1.0)\n",
    "    plt.ylim(-2, 12)\n",
    "    plt.legend(loc='best');"
   ]
  },
  {
   "cell_type": "code",
   "execution_count": 48,
   "metadata": {},
   "outputs": [],
   "source": [
    "y_pre = PolynomialRegression(20).fit(X, y).predict(X_test)"
   ]
  },
  {
   "cell_type": "code",
   "execution_count": 58,
   "metadata": {},
   "outputs": [],
   "source": [
    "y_pre = PolynomialRegression(30).fit(X, y).predict(X)"
   ]
  },
  {
   "cell_type": "code",
   "execution_count": 59,
   "metadata": {},
   "outputs": [
    {
     "data": {
      "text/plain": [
       "379.42764358598674"
      ]
     },
     "execution_count": 59,
     "metadata": {},
     "output_type": "execute_result"
    }
   ],
   "source": [
    "np.fabs(y_pre-y).mean()"
   ]
  },
  {
   "cell_type": "code",
   "execution_count": 60,
   "metadata": {},
   "outputs": [
    {
     "data": {
      "text/plain": [
       "[<matplotlib.lines.Line2D at 0x2788965c278>]"
      ]
     },
     "execution_count": 60,
     "metadata": {},
     "output_type": "execute_result"
    },
    {
     "data": {
      "image/png": "[encoded data removed]",
      "text/plain": [
       "<Figure size 432x288 with 1 Axes>"
      ]
     },
     "metadata": {},
     "output_type": "display_data"
    }
   ],
   "source": [
    "plt.figure()\n",
    "plt.plot(x[:5500],y)\n",
    "plt.plot(x[:5500],y_pre)"
   ]
  },
  {
   "cell_type": "code",
   "execution_count": null,
   "metadata": {},
   "outputs": [],
   "source": []
  }
 ],
 "metadata": {
  "kernelspec": {
   "display_name": "base",
   "language": "python",
   "name": "test"
  },
  "language_info": {
   "codemirror_mode": {
    "name": "ipython",
    "version": 3
   },
   "file_extension": ".py",
   "mimetype": "text/x-python",
   "name": "python",
   "nbconvert_exporter": "python",
   "pygments_lexer": "ipython3",
   "version": "3.6.5"
  }
 },
 "nbformat": 4,
 "nbformat_minor": 2
}
